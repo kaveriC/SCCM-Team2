{
  "nbformat": 4,
  "nbformat_minor": 0,
  "metadata": {
    "colab": {
      "provenance": [],
      "authorship_tag": "ABX9TyNkiIPcmOaDdcYU0aeJLn5b",
      "include_colab_link": true
    },
    "kernelspec": {
      "name": "python3",
      "display_name": "Python 3"
    },
    "language_info": {
      "name": "python"
    }
  },
  "cells": [
    {
      "cell_type": "markdown",
      "metadata": {
        "id": "view-in-github",
        "colab_type": "text"
      },
      "source": [
        "<a href=\"https://colab.research.google.com/github/kaveriC/SCCM-Team2/blob/main/FirstEDA.ipynb\" target=\"_parent\"><img src=\"https://colab.research.google.com/assets/colab-badge.svg\" alt=\"Open In Colab\"/></a>"
      ]
    },
    {
      "cell_type": "code",
      "execution_count": 12,
      "metadata": {
        "colab": {
          "base_uri": "https://localhost:8080/"
        },
        "id": "KMJ5OJaT3Sa_",
        "outputId": "77420144-5f9d-49c5-a58a-918179e9c6a7"
      },
      "outputs": [
        {
          "output_type": "stream",
          "name": "stdout",
          "text": [
            "Requirement already satisfied: tableone in /usr/local/lib/python3.11/dist-packages (0.9.5)\n",
            "Requirement already satisfied: jinja2>=3.1.4 in /usr/local/lib/python3.11/dist-packages (from tableone) (3.1.6)\n",
            "Requirement already satisfied: numpy>=1.19.1 in /usr/local/lib/python3.11/dist-packages (from tableone) (2.0.2)\n",
            "Requirement already satisfied: openpyxl>=3.1.2 in /usr/local/lib/python3.11/dist-packages (from tableone) (3.1.5)\n",
            "Requirement already satisfied: pandas>=2.0.3 in /usr/local/lib/python3.11/dist-packages (from tableone) (2.2.2)\n",
            "Requirement already satisfied: scipy>=1.10.1 in /usr/local/lib/python3.11/dist-packages (from tableone) (1.15.3)\n",
            "Requirement already satisfied: statsmodels>=0.14.1 in /usr/local/lib/python3.11/dist-packages (from tableone) (0.14.5)\n",
            "Requirement already satisfied: tabulate>=0.9.0 in /usr/local/lib/python3.11/dist-packages (from tableone) (0.9.0)\n",
            "Requirement already satisfied: MarkupSafe>=2.0 in /usr/local/lib/python3.11/dist-packages (from jinja2>=3.1.4->tableone) (3.0.2)\n",
            "Requirement already satisfied: et-xmlfile in /usr/local/lib/python3.11/dist-packages (from openpyxl>=3.1.2->tableone) (2.0.0)\n",
            "Requirement already satisfied: python-dateutil>=2.8.2 in /usr/local/lib/python3.11/dist-packages (from pandas>=2.0.3->tableone) (2.9.0.post0)\n",
            "Requirement already satisfied: pytz>=2020.1 in /usr/local/lib/python3.11/dist-packages (from pandas>=2.0.3->tableone) (2025.2)\n",
            "Requirement already satisfied: tzdata>=2022.7 in /usr/local/lib/python3.11/dist-packages (from pandas>=2.0.3->tableone) (2025.2)\n",
            "Requirement already satisfied: patsy>=0.5.6 in /usr/local/lib/python3.11/dist-packages (from statsmodels>=0.14.1->tableone) (1.0.1)\n",
            "Requirement already satisfied: packaging>=21.3 in /usr/local/lib/python3.11/dist-packages (from statsmodels>=0.14.1->tableone) (25.0)\n",
            "Requirement already satisfied: six>=1.5 in /usr/local/lib/python3.11/dist-packages (from python-dateutil>=2.8.2->pandas>=2.0.3->tableone) (1.17.0)\n"
          ]
        }
      ],
      "source": [
        "from google.colab import auth\n",
        "%pip install tableone\n"
      ]
    },
    {
      "cell_type": "code",
      "source": [
        "# Install dependencies\n",
        "# !pip install --upgrade google-cloud-bigquery pandas tableone matplotlib\n",
        "\n",
        "# Import necessary libraries\n",
        "import matplotlib.pyplot as plt\n",
        "import pandas as pd\n",
        "from tableone import TableOne\n",
        "from google.colab import auth, files\n",
        "\n",
        "# Authenticate to access BigQuery\n",
        "auth.authenticate_user()\n",
        "print('✅ Authenticated')\n",
        "\n",
        "# Load interactive data table extension\n",
        "%reload_ext google.colab.data_table\n"
      ],
      "metadata": {
        "colab": {
          "base_uri": "https://localhost:8080/"
        },
        "id": "Q-h5yqqk3aP1",
        "outputId": "926fe0e9-ee80-410f-a692-16a4231999ee"
      },
      "execution_count": 14,
      "outputs": [
        {
          "output_type": "stream",
          "name": "stdout",
          "text": [
            "✅ Authenticated\n"
          ]
        }
      ]
    },
    {
      "cell_type": "code",
      "source": [
        "from google.colab import files\n",
        "from google.colab import auth\n",
        "auth.authenticate_user()\n",
        "print('Authenticated')\n",
        "\n",
        "%load_ext google.colab.data_table"
      ],
      "metadata": {
        "colab": {
          "base_uri": "https://localhost:8080/"
        },
        "id": "xVX6lQZn3a16",
        "outputId": "0da0626a-efab-49b6-a876-cf923ffe7724"
      },
      "execution_count": 15,
      "outputs": [
        {
          "output_type": "stream",
          "name": "stdout",
          "text": [
            "Authenticated\n",
            "The google.colab.data_table extension is already loaded. To reload it, use:\n",
            "  %reload_ext google.colab.data_table\n"
          ]
        }
      ]
    },
    {
      "cell_type": "code",
      "source": [
        "# change this to change the right project\n",
        "%env GOOGLE_CLOUD_PROJECT = sccm\n",
        "from google.cloud import bigquery\n",
        "client = bigquery.Client(project='sccm-465717')"
      ],
      "metadata": {
        "colab": {
          "base_uri": "https://localhost:8080/"
        },
        "id": "qwqylSuI3p9x",
        "outputId": "9c76c754-bfca-4d26-feed-564a214a04dd"
      },
      "execution_count": 17,
      "outputs": [
        {
          "output_type": "stream",
          "name": "stdout",
          "text": [
            "env: GOOGLE_CLOUD_PROJECT=sccm\n"
          ]
        }
      ]
    },
    {
      "cell_type": "code",
      "source": [
        "#!pip install google-cloud-bigquery pandas numpy matplotlib seaborn\n",
        "\n",
        "import pandas as pd\n",
        "import numpy as np\n",
        "from google.cloud import bigquery\n",
        "import matplotlib.pyplot as plt\n",
        "import seaborn as sns\n",
        "from datetime import datetime\n",
        "\n",
        "print(\"=== ARDS COHORT WITH PEEP CRITERIA (BigQuery) ===\")\n",
        "print(\"NMB = Neuromuscular Blockade (paralytic drugs)\")\n",
        "print(\"Adding PEEP ≥ 5 cmH2O criteria to ARDS definition...\")\n",
        "\n",
        "# Initialize BigQuery client with explicit project\n",
        "project_id = 'sccm-465717'\n",
        "dataset_id = 'sccm-discovery.eicu_crd_ii_v0_2_0'\n",
        "\n",
        "# Initialize client with explicit project ID\n",
        "client = bigquery.Client(project=project_id)\n",
        "\n",
        "print(f\"📊 Connected to BigQuery\")\n",
        "print(f\"Project: {project_id}\")\n",
        "print(f\"Dataset: {dataset_id}\")\n",
        "\n",
        "# Test connection\n",
        "try:\n",
        "    # Simple test query to verify connection\n",
        "    test_query = f\"SELECT COUNT(*) as patient_count FROM `{dataset_id}.patient` LIMIT 1\"\n",
        "    test_result = client.query(test_query).to_dataframe()\n",
        "    print(f\"✅ Connection verified: {test_result['patient_count'].iloc[0]:,} patients in database\")\n",
        "except Exception as e:\n",
        "    print(f\"❌ Connection failed: {e}\")\n",
        "    print(\"\\n🔧 Troubleshooting steps:\")\n",
        "    print(\"1. Ensure you're authenticated: run `!gcloud auth application-default login`\")\n",
        "    print(\"2. Verify project ID and dataset name are correct\")\n",
        "    print(\"3. Check that you have BigQuery access permissions\")\n",
        "    exit()\n",
        "\n",
        "# Helper function to run queries\n",
        "def run_query(query, description=\"\"):\n",
        "    \"\"\"Execute BigQuery and return results as DataFrame\"\"\"\n",
        "    if description:\n",
        "        print(f\"\\n🔍 {description}\")\n",
        "\n",
        "    try:\n",
        "        df = client.query(query).to_dataframe()\n",
        "        print(f\"✅ Query completed: {len(df):,} rows returned\")\n",
        "        return df\n",
        "    except Exception as e:\n",
        "        print(f\"❌ Query failed: {e}\")\n",
        "        return pd.DataFrame()\n",
        "\n",
        "# Step 1: Get adult patients (≥18 years) excluding pregnancy and heart failure\n",
        "print(\"\\n--- STEP 1: ADULT PATIENTS WITH EXCLUSIONS ---\")\n",
        "\n",
        "patient_query = f\"\"\"\n",
        "WITH adult_patients AS (\n",
        "  SELECT\n",
        "    patientunitstayid,\n",
        "    patienthealthsystemstayid,\n",
        "    hospitalid,\n",
        "    age,\n",
        "    CASE\n",
        "      WHEN age = '> 89' THEN 90  -- Assign 90 to patients > 89\n",
        "      WHEN SAFE_CAST(age AS INT64) IS NOT NULL THEN SAFE_CAST(age AS INT64)\n",
        "      ELSE NULL\n",
        "    END as age_numeric,\n",
        "    gender,\n",
        "    unitdischargestatus,\n",
        "    unitdischargeoffset,\n",
        "    hospitaldischargestatus\n",
        "  FROM `{dataset_id}.patient`\n",
        "  WHERE (\n",
        "    age = '> 89' OR\n",
        "    (SAFE_CAST(age AS INT64) IS NOT NULL AND SAFE_CAST(age AS INT64) >= 18)\n",
        "  )\n",
        "),\n",
        "\n",
        "-- Identify exclusions\n",
        "pregnant_patients AS (\n",
        "  SELECT DISTINCT patientunitstayid\n",
        "  FROM `{dataset_id}.diagnosis`\n",
        "  WHERE (\n",
        "    REGEXP_CONTAINS(icd9code, r'V22|V23|V24|63[0-9]|64[0-9]|65[0-9]') OR\n",
        "    REGEXP_CONTAINS(LOWER(diagnosisstring), r'pregnan|gravid|maternity|obstetric|delivery|labor|gestation')\n",
        "  )\n",
        "),\n",
        "\n",
        "heart_failure_patients AS (\n",
        "  SELECT DISTINCT patientunitstayid\n",
        "  FROM `{dataset_id}.diagnosis`\n",
        "  WHERE (\n",
        "    REGEXP_CONTAINS(icd9code, r'398\\.91|402\\.01|402\\.11|402\\.91|404\\.01|404\\.03|404\\.11|404\\.13|404\\.91|404\\.93|428') OR\n",
        "    REGEXP_CONTAINS(LOWER(diagnosisstring), r'heart failure|cardiac failure|congestive heart|chf|systolic.*failure|diastolic.*failure')\n",
        "  )\n",
        ")\n",
        "\n",
        "SELECT\n",
        "  ap.*,\n",
        "  CASE WHEN pp.patientunitstayid IS NOT NULL THEN 1 ELSE 0 END as is_pregnant,\n",
        "  CASE WHEN hf.patientunitstayid IS NOT NULL THEN 1 ELSE 0 END as has_heart_failure\n",
        "FROM adult_patients ap\n",
        "LEFT JOIN pregnant_patients pp ON ap.patientunitstayid = pp.patientunitstayid\n",
        "LEFT JOIN heart_failure_patients hf ON ap.patientunitstayid = hf.patientunitstayid\n",
        "WHERE pp.patientunitstayid IS NULL\n",
        "  AND hf.patientunitstayid IS NULL\n",
        "\"\"\"\n",
        "\n",
        "adult_patients_df = run_query(patient_query, \"Loading adult patients with exclusions\")"
      ],
      "metadata": {
        "colab": {
          "base_uri": "https://localhost:8080/"
        },
        "id": "BRqy8cie3uqK",
        "outputId": "1e00c2d8-e13e-488c-e6c7-2862e53ee048"
      },
      "execution_count": 23,
      "outputs": [
        {
          "output_type": "stream",
          "name": "stdout",
          "text": [
            "=== ARDS COHORT WITH PEEP CRITERIA (BigQuery) ===\n",
            "NMB = Neuromuscular Blockade (paralytic drugs)\n",
            "Adding PEEP ≥ 5 cmH2O criteria to ARDS definition...\n",
            "📊 Connected to BigQuery\n",
            "Project: sccm-465717\n",
            "Dataset: sccm-discovery.eicu_crd_ii_v0_2_0\n",
            "✅ Connection verified: 201,727 patients in database\n",
            "\n",
            "--- STEP 1: ADULT PATIENTS WITH EXCLUSIONS ---\n",
            "\n",
            "🔍 Loading adult patients with exclusions\n",
            "✅ Query completed: 192,610 rows returned\n"
          ]
        }
      ]
    },
    {
      "cell_type": "code",
      "source": [
        "# Step 2: Identify ARDS patients by ICD/diagnosis\n",
        "print(\"\\n--- STEP 2: ARDS BY ICD/DIAGNOSIS ---\")\n",
        "\n",
        "ards_icd_query = f\"\"\"\n",
        "SELECT DISTINCT\n",
        "  d.patientunitstayid,\n",
        "  d.icd9code,\n",
        "  d.diagnosisstring\n",
        "FROM `{dataset_id}.diagnosis` d\n",
        "INNER JOIN ({patient_query}) ap ON d.patientunitstayid = ap.patientunitstayid\n",
        "WHERE (\n",
        "  d.icd9code = '518.82' OR\n",
        "  REGEXP_CONTAINS(LOWER(d.diagnosisstring), r'ards|acute respiratory distress|respiratory failure')\n",
        ")\n",
        "\"\"\"\n",
        "\n",
        "ards_icd_df = run_query(ards_icd_query, \"Finding ARDS patients by ICD/diagnosis\")"
      ],
      "metadata": {
        "colab": {
          "base_uri": "https://localhost:8080/"
        },
        "id": "l703br1X4ok0",
        "outputId": "6f9e536d-49fd-4136-f9d4-324b17bb2096"
      },
      "execution_count": 24,
      "outputs": [
        {
          "output_type": "stream",
          "name": "stdout",
          "text": [
            "\n",
            "--- STEP 2: ARDS BY ICD/DIAGNOSIS ---\n",
            "\n",
            "🔍 Finding ARDS patients by ICD/diagnosis\n",
            "✅ Query completed: 28,574 rows returned\n"
          ]
        }
      ]
    },
    {
      "cell_type": "code",
      "source": [
        "# Step 3: PEEP ≥ 5 cmH2O criteria (first 48 hours)\n",
        "print(\"\\n--- STEP 3: PEEP ≥ 5 cmH2O CRITERIA ---\")\n",
        "\n",
        "peep_query = f\"\"\"\n",
        "WITH peep_data AS (\n",
        "  SELECT\n",
        "    rc.patientunitstayid,\n",
        "    rc.respchartoffset,\n",
        "    SAFE_CAST(rc.respchartvalue AS FLOAT64) as peep_value\n",
        "  FROM `{dataset_id}.respiratorycharting` rc\n",
        "  INNER JOIN ({patient_query}) ap ON rc.patientunitstayid = ap.patientunitstayid\n",
        "  WHERE rc.respchartvaluelabel = 'PEEP'\n",
        "    AND rc.respchartoffset >= 0\n",
        "    AND rc.respchartoffset <= 2880  -- 48 hours\n",
        "    AND SAFE_CAST(rc.respchartvalue AS FLOAT64) IS NOT NULL\n",
        "    AND SAFE_CAST(rc.respchartvalue AS FLOAT64) BETWEEN 0 AND 30\n",
        "),\n",
        "\n",
        "peep_summary AS (\n",
        "  SELECT\n",
        "    patientunitstayid,\n",
        "    COUNT(*) as peep_measurements,\n",
        "    MAX(peep_value) as max_peep,\n",
        "    AVG(peep_value) as mean_peep,\n",
        "    MAX(CASE WHEN peep_value >= 5 THEN 1 ELSE 0 END) as has_peep_ge_5\n",
        "  FROM peep_data\n",
        "  GROUP BY patientunitstayid\n",
        ")\n",
        "\n",
        "SELECT *\n",
        "FROM peep_summary\n",
        "WHERE has_peep_ge_5 = 1\n",
        "\"\"\"\n",
        "\n",
        "peep_eligible_df = run_query(peep_query, \"Finding patients with PEEP ≥ 5 cmH2O\")\n"
      ],
      "metadata": {
        "colab": {
          "base_uri": "https://localhost:8080/"
        },
        "id": "GVemAvJs8H97",
        "outputId": "b75e348f-d7ed-4434-97d5-7fe544933528"
      },
      "execution_count": 25,
      "outputs": [
        {
          "output_type": "stream",
          "name": "stdout",
          "text": [
            "\n",
            "--- STEP 3: PEEP ≥ 5 cmH2O CRITERIA ---\n",
            "\n",
            "🔍 Finding patients with PEEP ≥ 5 cmH2O\n",
            "✅ Query completed: 43,639 rows returned\n"
          ]
        }
      ]
    },
    {
      "cell_type": "code",
      "source": [
        "# Step 4: S/F ratio ≤ 315 criteria\n",
        "print(\"\\n--- STEP 4: S/F RATIO ≤ 315 CRITERIA ---\")\n",
        "\n",
        "sf_ratio_query = f\"\"\"\n",
        "WITH fio2_data AS (\n",
        "  SELECT\n",
        "    rc.patientunitstayid,\n",
        "    rc.respchartoffset,\n",
        "    SAFE_CAST(rc.respchartvalue AS FLOAT64) as fio2_value\n",
        "  FROM `{dataset_id}.respiratorycharting` rc\n",
        "  INNER JOIN ({patient_query}) ap ON rc.patientunitstayid = ap.patientunitstayid\n",
        "  WHERE rc.respchartvaluelabel = 'FiO2'\n",
        "    AND rc.respchartoffset >= 0\n",
        "    AND rc.respchartoffset <= 2880\n",
        "    AND SAFE_CAST(rc.respchartvalue AS FLOAT64) BETWEEN 21 AND 100\n",
        "),\n",
        "\n",
        "spo2_data AS (\n",
        "  SELECT\n",
        "    rc.patientunitstayid,\n",
        "    rc.respchartoffset,\n",
        "    SAFE_CAST(rc.respchartvalue AS FLOAT64) as spo2_value\n",
        "  FROM `{dataset_id}.respiratorycharting` rc\n",
        "  INNER JOIN ({patient_query}) ap ON rc.patientunitstayid = ap.patientunitstayid\n",
        "  WHERE rc.respchartvaluelabel IN ('SpO2', 'O2 Sat', 'SaO2')\n",
        "    AND rc.respchartoffset >= 0\n",
        "    AND rc.respchartoffset <= 2880\n",
        "    AND SAFE_CAST(rc.respchartvalue AS FLOAT64) BETWEEN 70 AND 100\n",
        "),\n",
        "\n",
        "sf_ratios AS (\n",
        "  SELECT\n",
        "    f.patientunitstayid,\n",
        "    f.respchartoffset as fio2_offset,\n",
        "    s.respchartoffset as spo2_offset,\n",
        "    f.fio2_value,\n",
        "    s.spo2_value,\n",
        "    (s.spo2_value / f.fio2_value) * 100 as sf_ratio,\n",
        "    ABS(f.respchartoffset - s.respchartoffset) as time_diff\n",
        "  FROM fio2_data f\n",
        "  INNER JOIN spo2_data s ON f.patientunitstayid = s.patientunitstayid\n",
        "  WHERE ABS(f.respchartoffset - s.respchartoffset) <= 60  -- Within 60 minutes\n",
        "),\n",
        "\n",
        "sf_ratios_ranked AS (\n",
        "  SELECT *,\n",
        "    ROW_NUMBER() OVER (PARTITION BY patientunitstayid, fio2_offset ORDER BY time_diff ASC) as rn\n",
        "  FROM sf_ratios\n",
        "),\n",
        "\n",
        "patient_sf_summary AS (\n",
        "  SELECT\n",
        "    patientunitstayid,\n",
        "    COUNT(*) as sf_measurements,\n",
        "    MIN(sf_ratio) as min_sf_ratio,\n",
        "    MAX(CASE WHEN sf_ratio <= 315 THEN 1 ELSE 0 END) as has_sf_le_315\n",
        "  FROM sf_ratios_ranked\n",
        "  WHERE rn = 1  -- Take closest SpO2 measurement for each FiO2\n",
        "  GROUP BY patientunitstayid\n",
        ")\n",
        "\n",
        "SELECT *\n",
        "FROM patient_sf_summary\n",
        "WHERE has_sf_le_315 = 1\n",
        "\"\"\"\n",
        "\n",
        "sf_eligible_df = run_query(sf_ratio_query, \"Finding patients with S/F ratio ≤ 315\")"
      ],
      "metadata": {
        "colab": {
          "base_uri": "https://localhost:8080/"
        },
        "id": "J24fN_2k8JUh",
        "outputId": "f6fdc305-d03d-4cf6-9601-716e67c89ecf"
      },
      "execution_count": 26,
      "outputs": [
        {
          "output_type": "stream",
          "name": "stdout",
          "text": [
            "\n",
            "--- STEP 4: S/F RATIO ≤ 315 CRITERIA ---\n",
            "\n",
            "🔍 Finding patients with S/F ratio ≤ 315\n",
            "✅ Query completed: 12,515 rows returned\n"
          ]
        }
      ]
    },
    {
      "cell_type": "code",
      "source": [
        "# Step 5: Create final ARDS cohort\n",
        "print(\"\\n--- STEP 5: FINAL ARDS COHORT ---\")\n",
        "\n",
        "# Combine all criteria\n",
        "ards_icd_patients = set(ards_icd_df['patientunitstayid'].unique())\n",
        "sf_eligible_patients = set(sf_eligible_df['patientunitstayid'].unique())\n",
        "peep_eligible_patients = set(peep_eligible_df['patientunitstayid'].unique())\n",
        "\n",
        "print(\"ARDS criteria overlap:\")\n",
        "print(f\"- ICD/Diagnosis: {len(ards_icd_patients):,} patients\")\n",
        "print(f\"- S/F ratio ≤ 315: {len(sf_eligible_patients):,} patients\")\n",
        "print(f\"- PEEP ≥ 5 cmH2O: {len(peep_eligible_patients):,} patients\")\n",
        "\n",
        "# Patients meeting ANY ARDS criteria\n",
        "ards_any_criteria = ards_icd_patients | sf_eligible_patients\n",
        "print(f\"- ANY ARDS criteria: {len(ards_any_criteria):,} patients\")\n",
        "\n",
        "# Patients meeting ARDS + PEEP criteria\n",
        "ards_with_peep = ards_any_criteria & peep_eligible_patients\n",
        "print(f\"- ARDS + PEEP ≥ 5: {len(ards_with_peep):,} patients\")\n",
        "\n",
        "# Final cohort (already filtered for adult, non-pregnant, non-HF)\n",
        "final_cohort_ids = ards_with_peep & set(adult_patients_df['patientunitstayid'])\n",
        "\n",
        "print(f\"\\n🎯 FINAL ARDS COHORT: {len(final_cohort_ids):,} patients\")\n",
        "print(\"✅ Adult (≥18 years)\")\n",
        "print(\"✅ ARDS (ICD codes OR S/F ≤ 315)\")\n",
        "print(\"✅ PEEP ≥ 5 cmH2O\")\n",
        "print(\"✅ No pregnancy/heart failure\")"
      ],
      "metadata": {
        "colab": {
          "base_uri": "https://localhost:8080/"
        },
        "id": "d-_SQdlG8TAi",
        "outputId": "596d34f2-55aa-46b2-c28e-4824ee325dd5"
      },
      "execution_count": 28,
      "outputs": [
        {
          "output_type": "stream",
          "name": "stdout",
          "text": [
            "\n",
            "--- STEP 5: FINAL ARDS COHORT ---\n",
            "ARDS criteria overlap:\n",
            "- ICD/Diagnosis: 20,222 patients\n",
            "- S/F ratio ≤ 315: 12,515 patients\n",
            "- PEEP ≥ 5 cmH2O: 43,639 patients\n",
            "- ANY ARDS criteria: 28,367 patients\n",
            "- ARDS + PEEP ≥ 5: 16,622 patients\n",
            "\n",
            "🎯 FINAL ARDS COHORT: 16,622 patients\n",
            "✅ Adult (≥18 years)\n",
            "✅ ARDS (ICD codes OR S/F ≤ 315)\n",
            "✅ PEEP ≥ 5 cmH2O\n",
            "✅ No pregnancy/heart failure\n"
          ]
        }
      ]
    },
    {
      "cell_type": "code",
      "source": [
        " # Step 6: Analyze exposures (NMB and Proning)\n",
        "print(\"\\n--- STEP 6: EXPOSURE ANALYSIS ---\")\n",
        "\n",
        "# Convert final cohort to string for SQL IN clause\n",
        "final_cohort_str = ','.join([str(x) for x in final_cohort_ids])\n",
        "\n",
        "if final_cohort_str:  # Only run if we have patients\n",
        "\n",
        "    # NMB analysis\n",
        "    nmb_query = f\"\"\"\n",
        "    WITH nmb_medications AS (\n",
        "      SELECT DISTINCT patientunitstayid, 'medication' as source, drugname\n",
        "      FROM `{dataset_id}.medication`\n",
        "      WHERE patientunitstayid IN ({final_cohort_str})\n",
        "        AND REGEXP_CONTAINS(LOWER(drugname), r'cisatracurium|vecuronium|rocuronium|atracurium|succinylcholine|pancuronium')\n",
        "    ),\n",
        "\n",
        "    nmb_infusions AS (\n",
        "      SELECT DISTINCT patientunitstayid, 'infusion' as source, drugname\n",
        "      FROM `{dataset_id}.infusiondrug`\n",
        "      WHERE patientunitstayid IN ({final_cohort_str})\n",
        "        AND REGEXP_CONTAINS(LOWER(drugname), r'cisatracurium|vecuronium|rocuronium|atracurium|succinylcholine|pancuronium')\n",
        "    )\n",
        "\n",
        "    SELECT patientunitstayid, source, drugname\n",
        "    FROM nmb_medications\n",
        "    UNION ALL\n",
        "    SELECT patientunitstayid, source, drugname\n",
        "    FROM nmb_infusions\n",
        "    \"\"\"\n",
        "\n",
        "    nmb_df = run_query(nmb_query, \"Finding NMB exposures\")\n",
        "    nmb_patients = set(nmb_df['patientunitstayid'].unique()) if len(nmb_df) > 0 else set()\n",
        "\n",
        "    # Proning analysis\n",
        "    proning_query = f\"\"\"\n",
        "    SELECT DISTINCT\n",
        "      patientunitstayid,\n",
        "      cplitemvalue\n",
        "    FROM `{dataset_id}.careplangeneral`\n",
        "    WHERE patientunitstayid IN ({final_cohort_str})\n",
        "      AND REGEXP_CONTAINS(LOWER(cplitemvalue), r'prone|proning|position|turn|reposit')\n",
        "    \"\"\"\n",
        "\n",
        "    proning_df = run_query(proning_query, \"Finding proning exposures\")\n",
        "    proning_patients = set(proning_df['patientunitstayid'].unique()) if len(proning_df) > 0 else set()\n",
        "\n",
        "else:\n",
        "    nmb_patients = set()\n",
        "    proning_patients = set()\n",
        "    nmb_df = pd.DataFrame()\n",
        "    proning_df = pd.DataFrame()\n",
        "\n",
        "print(f\"NMB patients: {len(nmb_patients):,}/{len(final_cohort_ids):,} ({len(nmb_patients)/max(len(final_cohort_ids),1)*100:.1f}%)\")\n",
        "print(f\"Proning patients: {len(proning_patients):,}/{len(final_cohort_ids):,} ({len(proning_patients)/max(len(final_cohort_ids),1)*100:.1f}%)\")\n"
      ],
      "metadata": {
        "colab": {
          "base_uri": "https://localhost:8080/"
        },
        "id": "LcpoFc-l-gbi",
        "outputId": "ec2cad97-7c2b-49da-ce60-fb9bfd688cbf"
      },
      "execution_count": 30,
      "outputs": [
        {
          "output_type": "stream",
          "name": "stdout",
          "text": [
            "\n",
            "--- STEP 6: EXPOSURE ANALYSIS ---\n",
            "\n",
            "🔍 Finding NMB exposures\n",
            "✅ Query completed: 4,765 rows returned\n",
            "\n",
            "🔍 Finding proning exposures\n",
            "✅ Query completed: 796 rows returned\n",
            "NMB patients: 3,790/16,622 (22.8%)\n",
            "Proning patients: 796/16,622 (4.8%)\n"
          ]
        }
      ]
    },
    {
      "cell_type": "code",
      "source": [
        " # Step 7: Cohort characteristics and outcomes\n",
        "print(\"\\n--- STEP 7: COHORT CHARACTERISTICS ---\")\n",
        "\n",
        "if len(final_cohort_ids) > 0:\n",
        "    final_cohort_df = adult_patients_df[adult_patients_df['patientunitstayid'].isin(final_cohort_ids)].copy()\n",
        "\n",
        "    # Basic demographics\n",
        "    mortality = (final_cohort_df['unitdischargestatus'] == 'Expired').sum()\n",
        "    mean_age = final_cohort_df['age_numeric'].mean()\n",
        "    median_los = final_cohort_df['unitdischargeoffset'].median() / 1440  # Convert to days\n",
        "\n",
        "    print(f\"📊 Cohort Characteristics:\")\n",
        "    print(f\"- Total patients: {len(final_cohort_df):,}\")\n",
        "    print(f\"- Mean age: {mean_age:.1f} years\")\n",
        "    print(f\"- ICU mortality: {mortality:,}/{len(final_cohort_df):,} ({mortality/len(final_cohort_df)*100:.1f}%)\")\n",
        "    print(f\"- Median LOS: {median_los:.1f} days\")\n",
        "\n",
        "    # Gender distribution\n",
        "    gender_dist = final_cohort_df['gender'].value_counts()\n",
        "    print(f\"- Gender: {dict(gender_dist)}\")\n",
        "\n",
        "    # Show NMB drugs if any\n",
        "    if len(nmb_df) > 0:\n",
        "        print(f\"\\n💊 NMB Drugs Used:\")\n",
        "        nmb_drugs = nmb_df['drugname'].value_counts()\n",
        "        for drug, count in nmb_drugs.head().items():\n",
        "            print(f\"  - {drug}: {count:,}\")\n",
        "\n",
        "    # Show proning details if any\n",
        "    if len(proning_df) > 0:\n",
        "        print(f\"\\n🔄 Proning Details:\")\n",
        "        proning_types = proning_df['cplitemvalue'].value_counts()\n",
        "        for prone_type, count in proning_types.head().items():\n",
        "            print(f\"  - {prone_type}: {count:,}\")\n",
        "\n",
        "else:\n",
        "    print(\"⚠️  No patients in final cohort\")"
      ],
      "metadata": {
        "colab": {
          "base_uri": "https://localhost:8080/"
        },
        "id": "7L7fFOXX-g_M",
        "outputId": "671063c5-4737-4d43-c3fd-b608d8399d5f"
      },
      "execution_count": 31,
      "outputs": [
        {
          "output_type": "stream",
          "name": "stdout",
          "text": [
            "\n",
            "--- STEP 7: COHORT CHARACTERISTICS ---\n",
            "📊 Cohort Characteristics:\n",
            "- Total patients: 16,622\n",
            "- Mean age: 63.0 years\n",
            "- ICU mortality: 4,054/16,622 (24.4%)\n",
            "- Median LOS: 3.9 days\n",
            "- Gender: {'Male': np.int64(9557), 'Female': np.int64(7061), 'Unknown': np.int64(4)}\n",
            "\n",
            "💊 NMB Drugs Used:\n",
            "  - rocuronium: 2,118\n",
            "  - succinylcholine: 1,332\n",
            "  - ROCURONIUM BROMIDE: 387\n",
            "  - cisatracurium (mcg/kg/min): 258\n",
            "  - cisatracurium: 253\n",
            "\n",
            "🔄 Proning Details:\n",
            "  - Turn/ROM: 796\n"
          ]
        }
      ]
    },
    {
      "cell_type": "code",
      "source": [
        " # Step 8: Research feasibility assessment\n",
        "print(\"\\n=== RESEARCH FEASIBILITY ASSESSMENT ===\")\n",
        "\n",
        "total_exposures = len(nmb_patients) + len(proning_patients)\n",
        "overlap = len(nmb_patients & proning_patients)\n",
        "\n",
        "print(f\"📈 Exposure Summary:\")\n",
        "print(f\"- NMB only: {len(nmb_patients - proning_patients):,}\")\n",
        "print(f\"- Proning only: {len(proning_patients - nmb_patients):,}\")\n",
        "print(f\"- Both exposures: {overlap:,}\")\n",
        "print(f\"- Any exposure: {len(nmb_patients | proning_patients):,}\")\n",
        "print(f\"- No exposures: {len(final_cohort_ids) - len(nmb_patients | proning_patients):,}\")\n",
        "\n",
        "# Feasibility recommendations\n",
        "if len(final_cohort_ids) >= 100 and total_exposures >= 20:\n",
        "    print(\"\\n✅ EXCELLENT: Large cohort with sufficient exposures for robust analysis\")\n",
        "elif len(final_cohort_ids) >= 50 and total_exposures >= 10:\n",
        "    print(\"\\n✅ GOOD: Adequate sample size for descriptive analysis\")\n",
        "elif len(final_cohort_ids) >= 25 and total_exposures >= 5:\n",
        "    print(\"\\n⚠️  MODERATE: Limited but feasible for case series\")\n",
        "else:\n",
        "    print(\"\\n❌ LIMITED: Consider expanding inclusion criteria or focusing on descriptive analysis\")\n",
        "\n",
        "# Save results\n",
        "print(\"\\n=== SAVING RESULTS ===\")\n",
        "\n",
        "# Create summary dataframe\n",
        "summary_data = {\n",
        "    'metric': [\n",
        "        'total_adult_patients', 'excluded_patients', 'ards_icd_patients',\n",
        "        'ards_sf_patients', 'ards_peep_patients', 'final_cohort_patients',\n",
        "        'nmb_patients', 'proning_patients', 'mortality_count'\n",
        "    ],\n",
        "    'count': [\n",
        "        len(adult_patients_df),\n",
        "        len(adult_patients_df) - len(final_cohort_ids),  # Rough estimate\n",
        "        len(ards_icd_patients),\n",
        "        len(sf_eligible_patients),\n",
        "        len(peep_eligible_patients),\n",
        "        len(final_cohort_ids),\n",
        "        len(nmb_patients),\n",
        "        len(proning_patients),\n",
        "        mortality if len(final_cohort_ids) > 0 else 0\n",
        "    ]\n",
        "}\n",
        "\n",
        "summary_df = pd.DataFrame(summary_data)\n",
        "print(\"✅ Analysis complete!\")\n",
        "print(\"\\nSummary Statistics:\")\n",
        "print(summary_df.to_string(index=False))\n",
        "\n",
        "print(\"\\n🔍 Next Steps:\")\n",
        "print(\"1. Export final_cohort_ids for detailed analysis\")\n",
        "print(\"2. Analyze timing of exposures relative to ARDS onset\")\n",
        "print(\"3. Perform outcome analysis with propensity matching\")\n",
        "print(\"4. Consider sensitivity analyses with different PEEP thresholds\")\n",
        "\n",
        "# Export final cohort IDs\n",
        "final_cohort_list = list(final_cohort_ids)\n",
        "print(f\"\\n📁 Final cohort patient IDs: {len(final_cohort_list):,} patients\")\n",
        "# Uncomment to save: pd.DataFrame({'patientunitstayid': final_cohort_list}).to_csv('ards_final_cohort.csv', index=False)"
      ],
      "metadata": {
        "colab": {
          "base_uri": "https://localhost:8080/"
        },
        "id": "CKqvX00D_tKf",
        "outputId": "41a44f0c-db56-469c-ee6d-c5951be91f11"
      },
      "execution_count": 36,
      "outputs": [
        {
          "output_type": "stream",
          "name": "stdout",
          "text": [
            "\n",
            "=== RESEARCH FEASIBILITY ASSESSMENT ===\n",
            "📈 Exposure Summary:\n",
            "- NMB only: 3,317\n",
            "- Proning only: 323\n",
            "- Both exposures: 473\n",
            "- Any exposure: 4,113\n",
            "- No exposures: 12,509\n",
            "\n",
            "✅ EXCELLENT: Large cohort with sufficient exposures for robust analysis\n",
            "\n",
            "=== SAVING RESULTS ===\n",
            "✅ Analysis complete!\n",
            "\n",
            "Summary Statistics:\n",
            "               metric  count\n",
            " total_adult_patients 192610\n",
            "    excluded_patients 175988\n",
            "    ards_icd_patients  20222\n",
            "     ards_sf_patients  12515\n",
            "   ards_peep_patients  43639\n",
            "final_cohort_patients  16622\n",
            "         nmb_patients   3790\n",
            "     proning_patients    796\n",
            "      mortality_count   4054\n",
            "\n",
            "🔍 Next Steps:\n",
            "1. Export final_cohort_ids for detailed analysis\n",
            "2. Analyze timing of exposures relative to ARDS onset\n",
            "3. Perform outcome analysis with propensity matching\n",
            "4. Consider sensitivity analyses with different PEEP thresholds\n",
            "\n",
            "📁 Final cohort patient IDs: 16,622 patients\n"
          ]
        }
      ]
    }
  ]
}