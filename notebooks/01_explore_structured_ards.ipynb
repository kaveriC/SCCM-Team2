{
 "cells": [
  {
   "cell_type": "markdown",
   "metadata": {},
   "source": [
    "# Exploring ARDS in MIMIC-IV Structured Data\n",
    "\n",
    "This notebook explores methods to identify ARDS patients using structured data:\n",
    "- ICD diagnosis codes\n",
    "- Ventilator settings (P/F ratio, PEEP)\n",
    "- Clinical criteria"
   ]
  },
  {
   "cell_type": "code",
   "execution_count": null,
   "metadata": {},
   "outputs": [],
   "source": [
    "import pandas as pd\n",
    "import numpy as np\n",
    "import yaml\n",
    "from pathlib import Path\n",
    "import matplotlib.pyplot as plt\n",
    "import seaborn as sns\n",
    "\n",
    "# Setup\n",
    "sns.set_style('whitegrid')\n",
    "pd.set_option('display.max_columns', None)\n",
    "pd.set_option('display.max_rows', 100)"
   ]
  },
  {
   "cell_type": "code",
   "execution_count": null,
   "metadata": {},
   "outputs": [],
   "source": [
    "# Load paths configuration\n",
    "with open('../configs/paths.yaml', 'r') as f:\n",
    "    paths = yaml.safe_load(f)\n",
    "    \n",
    "# Resolve variables in paths\n",
    "mimic_root = paths['mimic_root']\n",
    "for category in paths:\n",
    "    if isinstance(paths[category], dict):\n",
    "        for subcategory in paths[category]:\n",
    "            if isinstance(paths[category][subcategory], dict):\n",
    "                for key in paths[category][subcategory]:\n",
    "                    paths[category][subcategory][key] = paths[category][subcategory][key].replace('${mimic_root}', mimic_root)"
   ]
  },
  {
   "cell_type": "markdown",
   "metadata": {},
   "source": [
    "## 1. ARDS ICD Codes\n",
    "\n",
    "Common ICD codes for ARDS:\n",
    "- ICD-9: 518.82 (Acute respiratory distress syndrome)\n",
    "- ICD-10: J80 (Acute respiratory distress syndrome)"
   ]
  },
  {
   "cell_type": "code",
   "execution_count": null,
   "metadata": {},
   "outputs": [],
   "source": [
    "# Load diagnosis data\n",
    "print(\"Loading diagnosis data...\")\n",
    "diagnoses = pd.read_csv(paths['mimic_iv']['hosp']['diagnoses_icd'], compression='gzip')\n",
    "d_icd_diagnoses = pd.read_csv(paths['mimic_iv']['hosp']['d_icd_diagnoses'], compression='gzip')\n",
    "\n",
    "print(f\"Total diagnoses: {len(diagnoses):,}\")\n",
    "print(f\"Unique patients: {diagnoses['subject_id'].nunique():,}\")\n",
    "print(f\"Unique admissions: {diagnoses['hadm_id'].nunique():,}\")"
   ]
  },
  {
   "cell_type": "code",
   "execution_count": null,
   "metadata": {},
   "outputs": [],
   "source": [
    "# Define ARDS-related ICD codes based on clinical criteria\n",
    "# Inclusion codes for ARDS and related respiratory conditions\n",
    "ards_inclusion_icd9 = ['51881', '51882', '51884', '51851', '51852', '51853', '5184', '5187', '78552', '99592', '9670', '9671', '9672']\n",
    "# Exclusion codes (heart failure and related conditions that can mimic ARDS)\n",
    "ards_exclusion_icd9 = ['49391', '49392', '49322', '4280']\n",
    "\n",
    "# Search for ARDS-related ICD codes by keywords\n",
    "ards_keywords = ['respiratory distress', 'ARDS', 'acute lung injury', 'ALI']\n",
    "\n",
    "ards_codes_keywords = d_icd_diagnoses[\n",
    "    d_icd_diagnoses['long_title'].str.contains('|'.join(ards_keywords), case=False, na=False)\n",
    "]\n",
    "\n",
    "# Get all inclusion codes details\n",
    "ards_codes_inclusion = d_icd_diagnoses[\n",
    "    d_icd_diagnoses['icd_code'].isin(ards_inclusion_icd9)\n",
    "]\n",
    "\n",
    "# Get all exclusion codes details\n",
    "ards_codes_exclusion = d_icd_diagnoses[\n",
    "    d_icd_diagnoses['icd_code'].isin(ards_exclusion_icd9)\n",
    "]\n",
    "\n",
    "print(\"ARDS Inclusion ICD-9 codes:\")\n",
    "print(ards_codes_inclusion[['icd_code', 'icd_version', 'long_title']].to_string())\n",
    "print(\"\\n\" + \"=\"*80 + \"\\n\")\n",
    "\n",
    "print(\"ARDS Exclusion ICD-9 codes (to rule out):\")\n",
    "print(ards_codes_exclusion[['icd_code', 'icd_version', 'long_title']].to_string())\n",
    "print(\"\\n\" + \"=\"*80 + \"\\n\")\n",
    "\n",
    "print(\"Additional ARDS-related codes found by keywords:\")\n",
    "additional_codes = ards_codes_keywords[~ards_codes_keywords['icd_code'].isin(ards_inclusion_icd9)]\n",
    "print(additional_codes[['icd_code', 'icd_version', 'long_title']].to_string())"
   ]
  },
  {
   "cell_type": "code",
   "execution_count": null,
   "metadata": {},
   "outputs": [],
   "source": [
    "# Find patients with ARDS diagnosis using inclusion/exclusion criteria\n",
    "# Include both the specific ICD-9 codes and ICD-10 codes\n",
    "ards_icd10 = ['J80']   # J80 for ARDS\n",
    "\n",
    "# Get patients with inclusion codes\n",
    "ards_patients_inclusion = diagnoses[\n",
    "    (diagnoses['icd_code'].isin(ards_inclusion_icd9 + ards_icd10)) |\n",
    "    (diagnoses['icd_code'].str.startswith('J80'))\n",
    "]\n",
    "\n",
    "# Get patients with exclusion codes to filter out\n",
    "exclusion_patients = diagnoses[\n",
    "    diagnoses['icd_code'].isin(ards_exclusion_icd9)\n",
    "]\n",
    "\n",
    "# Remove patients who have exclusion codes\n",
    "ards_patients = ards_patients_inclusion[\n",
    "    ~ards_patients_inclusion['hadm_id'].isin(exclusion_patients['hadm_id'])\n",
    "]\n",
    "\n",
    "print(f\"Patients with ARDS inclusion codes: {ards_patients_inclusion['subject_id'].nunique():,}\")\n",
    "print(f\"Patients with exclusion codes: {exclusion_patients['subject_id'].nunique():,}\")\n",
    "print(f\"Final ARDS patients (after exclusions): {ards_patients['subject_id'].nunique():,}\")\n",
    "print(f\"Final ARDS admissions (after exclusions): {ards_patients['hadm_id'].nunique():,}\")\n",
    "\n",
    "# Show breakdown by ICD code\n",
    "print(\"\\nBreakdown by ICD code:\")\n",
    "code_counts = ards_patients['icd_code'].value_counts()\n",
    "for code, count in code_counts.head(10).items():\n",
    "    code_desc = d_icd_diagnoses[d_icd_diagnoses['icd_code'] == code]['long_title'].iloc[0] if len(d_icd_diagnoses[d_icd_diagnoses['icd_code'] == code]) > 0 else \"Unknown\"\n",
    "    print(f\"{code}: {count} - {code_desc}\")"
   ]
  },
  {
   "cell_type": "markdown",
   "metadata": {},
   "source": [
    "## 2. Load ICU Stay Data\n",
    "\n",
    "We need ICU data to identify mechanically ventilated patients and extract ventilator parameters."
   ]
  },
  {
   "cell_type": "code",
   "execution_count": null,
   "metadata": {},
   "outputs": [],
   "source": [
    "# Load ICU stays\n",
    "print(\"Loading ICU stays...\")\n",
    "icustays = pd.read_csv(paths['mimic_iv']['icu']['icustays'], compression='gzip')\n",
    "\n",
    "# Filter to ARDS patients\n",
    "ards_icustays = icustays[icustays['hadm_id'].isin(ards_patients['hadm_id'])]\n",
    "\n",
    "print(f\"Total ICU stays: {len(icustays):,}\")\n",
    "print(f\"ARDS patient ICU stays: {len(ards_icustays):,}\")\n",
    "print(f\"\\nFirst unit distribution for ARDS patients:\")\n",
    "print(ards_icustays['first_careunit'].value_counts())"
   ]
  },
  {
   "cell_type": "markdown",
   "metadata": {},
   "source": [
    "## 3. Summary Statistics"
   ]
  },
  {
   "cell_type": "code",
   "execution_count": null,
   "metadata": {},
   "outputs": [],
   "source": [
    "# Create summary of ARDS patients identified by ICD codes\n",
    "summary = {\n",
    "    'Total patients with ARDS ICD': ards_patients['subject_id'].nunique(),\n",
    "    'Total admissions with ARDS ICD': ards_patients['hadm_id'].nunique(),\n",
    "    'Total ICU stays with ARDS': len(ards_icustays),\n",
    "    'ICD-9 ARDS codes': len(diagnoses[diagnoses['icd_code'].isin(ards_icd9)]),\n",
    "    'ICD-10 ARDS codes': len(diagnoses[diagnoses['icd_code'].isin(ards_icd10) | diagnoses['icd_code'].str.startswith('J80')])\n",
    "}\n",
    "\n",
    "for key, value in summary.items():\n",
    "    print(f\"{key}: {value:,}\")"
   ]
  },
  {
   "cell_type": "markdown",
   "metadata": {},
   "source": [
    "## Next Steps\n",
    "\n",
    "1. **Extract ventilator parameters** (P/F ratio, PEEP, plateau pressure) from chartevents\n",
    "2. **Apply Berlin criteria** for ARDS identification\n",
    "3. **Compare with radiology report findings**\n",
    "4. **Extract BMI/obesity data** for patient stratification"
   ]
  }
 ],
 "metadata": {
  "kernelspec": {
   "display_name": "ards-env",
   "language": "python",
   "name": "python3"
  },
  "language_info": {
   "codemirror_mode": {
    "name": "ipython",
    "version": 3
   },
   "file_extension": ".py",
   "mimetype": "text/x-python",
   "name": "python",
   "nbconvert_exporter": "python",
   "pygments_lexer": "ipython3",
   "version": "3.9.6"
  }
 },
 "nbformat": 4,
 "nbformat_minor": 4
}
